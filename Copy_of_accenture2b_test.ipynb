{
  "nbformat": 4,
  "nbformat_minor": 0,
  "metadata": {
    "colab": {
      "provenance": [],
      "include_colab_link": true
    },
    "kernelspec": {
      "name": "python3",
      "display_name": "Python 3"
    },
    "language_info": {
      "name": "python"
    }
  },
  "cells": [
    {
      "cell_type": "markdown",
      "metadata": {
        "id": "view-in-github",
        "colab_type": "text"
      },
      "source": [
        "<a href=\"https://colab.research.google.com/github/hoatuyet423/accenture2b-testing/blob/main/Copy_of_accenture2b_test.ipynb\" target=\"_parent\"><img src=\"https://colab.research.google.com/assets/colab-badge.svg\" alt=\"Open In Colab\"/></a>"
      ]
    },
    {
      "cell_type": "code",
      "execution_count": null,
      "metadata": {
        "id": "Hl9OOO3Illjx",
        "outputId": "a2a8806b-c3d1-48c8-9550-0d615a492984",
        "colab": {
          "base_uri": "https://localhost:8080/"
        }
      },
      "outputs": [
        {
          "output_type": "stream",
          "name": "stdout",
          "text": [
            "hello\n"
          ]
        }
      ],
      "source": [
        "print(\"hello\")"
      ]
    },
    {
      "cell_type": "code",
      "source": [],
      "metadata": {
        "id": "vYR2hS14rSJM"
      },
      "execution_count": null,
      "outputs": []
    },
    {
      "cell_type": "markdown",
      "source": [],
      "metadata": {
        "id": "sE1GzHBvrSd3"
      }
    },
    {
      "cell_type": "code",
      "source": [
        "print(\"here\")"
      ],
      "metadata": {
        "id": "6JVznk1rluu5",
        "outputId": "8de7b88c-0e21-4ed3-9ee9-a8a63ff3954e",
        "colab": {
          "base_uri": "https://localhost:8080/"
        }
      },
      "execution_count": null,
      "outputs": [
        {
          "output_type": "stream",
          "name": "stdout",
          "text": [
            "here\n"
          ]
        }
      ]
    },
    {
      "cell_type": "markdown",
      "source": [
        "project accenture\n"
      ],
      "metadata": {
        "id": "abwNpfP1p8DC"
      }
    },
    {
      "cell_type": "code",
      "source": [],
      "metadata": {
        "id": "dzgywk5jqA1S"
      },
      "execution_count": null,
      "outputs": []
    }
  ]
}